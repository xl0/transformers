{
 "cells": [
  {
   "cell_type": "code",
   "execution_count": 49,
   "metadata": {},
   "outputs": [
    {
     "name": "stdout",
     "output_type": "stream",
     "text": [
      "The autoreload extension is already loaded. To reload it, use:\n",
      "  %reload_ext autoreload\n"
     ]
    }
   ],
   "source": [
    "%load_ext autoreload"
   ]
  },
  {
   "cell_type": "code",
   "execution_count": 50,
   "metadata": {},
   "outputs": [],
   "source": [
    "%autoreload 2\n",
    "\n",
    "import torch\n",
    "from lovely_tensors import monkey_patch; monkey_patch()\n",
    "from transformers import GPT2Tokenizer\n"
   ]
  },
  {
   "cell_type": "code",
   "execution_count": 41,
   "metadata": {},
   "outputs": [],
   "source": []
  },
  {
   "cell_type": "code",
   "execution_count": 355,
   "metadata": {},
   "outputs": [
    {
     "data": {
      "text/plain": [
       "tensor[1, 12] i64 x∈[13, 6342] μ=2.005e+03 σ=2.265e+03"
      ]
     },
     "execution_count": 355,
     "metadata": {},
     "output_type": "execute_result"
    }
   ],
   "source": [
    "tokenizer = GPT2Tokenizer.from_pretrained(\"gpt2\")\n",
    "\n",
    "token_ids = tokenizer.encode(\n",
    "    \"The capital of France is Paris. The capital of England is\",\n",
    "    return_tensors=\"pt\",\n",
    ")\n",
    "\n",
    "\n",
    "token_ids"
   ]
  },
  {
   "cell_type": "code",
   "execution_count": 350,
   "metadata": {},
   "outputs": [],
   "source": [
    "\n",
    "# state_log"
   ]
  },
  {
   "cell_type": "code",
   "execution_count": null,
   "metadata": {},
   "outputs": [],
   "source": []
  },
  {
   "cell_type": "code",
   "execution_count": 65,
   "metadata": {},
   "outputs": [],
   "source": [
    "import pickle\n",
    "\n",
    "model_state = dict(torch.load(\"pytorch_model.bin\"))\n",
    "# model_state"
   ]
  },
  {
   "cell_type": "code",
   "execution_count": 315,
   "metadata": {},
   "outputs": [
    {
     "data": {
      "text/plain": [
       "{'wte.weight': tensor[50257, 768] n=38597376 (0.1Gb) x∈[-1.270, 1.785] μ=0.000 σ=0.144,\n",
       " 'wpe.weight': tensor[1024, 768] n=786432 (3Mb) x∈[-4.538, 4.065] μ=-0.001 σ=0.123,\n",
       " 'h.0.ln_1.weight': tensor[768] 3Kb x∈[0.042, 0.253] μ=0.180 σ=0.041,\n",
       " 'h.0.ln_1.bias': tensor[768] 3Kb x∈[-0.259, 0.202] μ=-0.007 σ=0.036,\n",
       " 'h.0.attn.bias': tensor[1, 1, 1024, 1024] n=1048576 (4Mb) x∈[0., 1.000] μ=0.500 σ=0.500,\n",
       " 'h.0.attn.c_attn.weight': tensor[768, 2304] n=1769472 (6.8Mb) x∈[-2.844, 2.796] μ=5.338e-05 σ=0.200,\n",
       " 'h.0.attn.c_attn.bias': tensor[2304] 9Kb x∈[-1.337, 1.175] μ=-0.001 σ=0.226,\n",
       " 'h.0.attn.c_proj.weight': tensor[768, 768] n=589824 (2.2Mb) x∈[-3.317, 3.061] μ=-0.000 σ=0.147,\n",
       " 'h.0.attn.c_proj.bias': tensor[768] 3Kb x∈[-2.684, 2.030] μ=-0.007 σ=0.259,\n",
       " 'h.0.ln_2.weight': tensor[768] 3Kb x∈[0.045, 1.511] μ=0.868 σ=0.485,\n",
       " 'h.0.ln_2.bias': tensor[768] 3Kb x∈[-0.665, 0.739] μ=0.009 σ=0.070,\n",
       " 'h.0.mlp.c_fc.weight': tensor[768, 3072] n=2359296 (9Mb) x∈[-2.313, 4.588] μ=-0.001 σ=0.141,\n",
       " 'h.0.mlp.c_fc.bias': tensor[3072] 12Kb x∈[-0.746, 0.332] μ=-0.093 σ=0.132,\n",
       " 'h.0.mlp.c_proj.weight': tensor[3072, 768] n=2359296 (9Mb) x∈[-6.143, 6.065] μ=8.009e-06 σ=0.088,\n",
       " 'h.0.mlp.c_proj.bias': tensor[768] 3Kb x∈[-1.029, 1.479] μ=-0.000 σ=0.102,\n",
       " 'h.1.ln_1.weight': tensor[768] 3Kb x∈[0.073, 0.655] μ=0.223 σ=0.051,\n",
       " 'h.1.ln_1.bias': tensor[768] 3Kb x∈[-0.665, 0.533] μ=-0.005 σ=0.052,\n",
       " 'h.1.attn.bias': tensor[1, 1, 1024, 1024] n=1048576 (4Mb) x∈[0., 1.000] μ=0.500 σ=0.500,\n",
       " 'h.1.attn.c_attn.weight': tensor[768, 2304] n=1769472 (6.8Mb) x∈[-1.077, 1.238] μ=2.809e-05 σ=0.140,\n",
       " 'h.1.attn.c_attn.bias': tensor[2304] 9Kb x∈[-1.815, 1.939] μ=0.001 σ=0.211,\n",
       " 'h.1.attn.c_proj.weight': tensor[768, 768] n=589824 (2.2Mb) x∈[-4.726, 3.986] μ=-8.276e-05 σ=0.102,\n",
       " 'h.1.attn.c_proj.bias': tensor[768] 3Kb x∈[-0.535, 1.251] μ=-0.001 σ=0.105,\n",
       " 'h.1.ln_2.weight': tensor[768] 3Kb x∈[0.056, 0.452] μ=0.243 σ=0.032,\n",
       " 'h.1.ln_2.bias': tensor[768] 3Kb x∈[-0.587, 0.457] μ=-0.004 σ=0.039,\n",
       " 'h.1.mlp.c_fc.weight': tensor[768, 3072] n=2359296 (9Mb) x∈[-1.873, 2.289] μ=0.001 σ=0.131,\n",
       " 'h.1.mlp.c_fc.bias': tensor[3072] 12Kb x∈[-0.656, 0.265] μ=-0.072 σ=0.095,\n",
       " 'h.1.mlp.c_proj.weight': tensor[3072, 768] n=2359296 (9Mb) x∈[-4.931, 13.736] μ=9.794e-05 σ=0.087,\n",
       " 'h.1.mlp.c_proj.bias': tensor[768] 3Kb x∈[-0.699, 1.594] μ=0.000 σ=0.100,\n",
       " 'h.2.ln_1.weight': tensor[768] 3Kb x∈[0.046, 0.944] μ=0.241 σ=0.075,\n",
       " 'h.2.ln_1.bias': tensor[768] 3Kb x∈[-0.562, 1.094] μ=-0.000 σ=0.071,\n",
       " 'h.2.attn.bias': tensor[1, 1, 1024, 1024] n=1048576 (4Mb) x∈[0., 1.000] μ=0.500 σ=0.500,\n",
       " 'h.2.attn.c_attn.weight': tensor[768, 2304] n=1769472 (6.8Mb) x∈[-1.677, 1.577] μ=8.216e-05 σ=0.153,\n",
       " 'h.2.attn.c_attn.bias': tensor[2304] 9Kb x∈[-1.463, 1.177] μ=-0.004 σ=0.165,\n",
       " 'h.2.attn.c_proj.weight': tensor[768, 768] n=589824 (2.2Mb) x∈[-2.296, 2.219] μ=-3.299e-05 σ=0.081,\n",
       " 'h.2.attn.c_proj.bias': tensor[768] 3Kb x∈[-0.478, 0.515] μ=0.003 σ=0.145,\n",
       " 'h.2.ln_2.weight': tensor[768] 3Kb x∈[0.042, 0.730] μ=0.293 σ=0.045,\n",
       " 'h.2.ln_2.bias': tensor[768] 3Kb x∈[-0.647, 0.370] μ=0.006 σ=0.044,\n",
       " 'h.2.mlp.c_fc.weight': tensor[768, 3072] n=2359296 (9Mb) x∈[-5.874, 10.556] μ=-0.005 σ=0.134,\n",
       " 'h.2.mlp.c_fc.bias': tensor[3072] 12Kb x∈[-0.660, 1.731] μ=-0.093 σ=0.107,\n",
       " 'h.2.mlp.c_proj.weight': tensor[3072, 768] n=2359296 (9Mb) x∈[-2.874, 15.068] μ=0.000 σ=0.093,\n",
       " 'h.2.mlp.c_proj.bias': tensor[768] 3Kb x∈[-0.453, 1.568] μ=0.003 σ=0.112,\n",
       " 'h.3.ln_1.weight': tensor[768] 3Kb x∈[0.057, 0.768] μ=0.301 σ=0.054,\n",
       " 'h.3.ln_1.bias': tensor[768] 3Kb x∈[-0.434, 1.737] μ=0.005 σ=0.070,\n",
       " 'h.3.attn.bias': tensor[1, 1, 1024, 1024] n=1048576 (4Mb) x∈[0., 1.000] μ=0.500 σ=0.500,\n",
       " 'h.3.attn.c_attn.weight': tensor[768, 2304] n=1769472 (6.8Mb) x∈[-1.715, 1.896] μ=-2.448e-05 σ=0.142,\n",
       " 'h.3.attn.c_attn.bias': tensor[2304] 9Kb x∈[-0.669, 0.712] μ=-0.001 σ=0.142,\n",
       " 'h.3.attn.c_proj.weight': tensor[768, 768] n=589824 (2.2Mb) x∈[-2.094, 1.228] μ=3.374e-05 σ=0.084,\n",
       " 'h.3.attn.c_proj.bias': tensor[768] 3Kb x∈[-1.027, 0.518] μ=-0.002 σ=0.108,\n",
       " 'h.3.ln_2.weight': tensor[768] 3Kb x∈[-0.000, 1.160] μ=0.307 σ=0.053,\n",
       " 'h.3.ln_2.bias': tensor[768] 3Kb x∈[-0.437, 0.435] μ=0.010 σ=0.044,\n",
       " 'h.3.mlp.c_fc.weight': tensor[768, 3072] n=2359296 (9Mb) x∈[-2.644, 2.284] μ=-0.006 σ=0.130,\n",
       " 'h.3.mlp.c_fc.bias': tensor[3072] 12Kb x∈[-1.226, 0.517] μ=-0.093 σ=0.086,\n",
       " 'h.3.mlp.c_proj.weight': tensor[3072, 768] n=2359296 (9Mb) x∈[-4.139, 17.102] μ=0.000 σ=0.092,\n",
       " 'h.3.mlp.c_proj.bias': tensor[768] 3Kb x∈[-0.666, 1.864] μ=0.002 σ=0.115,\n",
       " 'h.4.ln_1.weight': tensor[768] 3Kb x∈[0.058, 0.670] μ=0.319 σ=0.047,\n",
       " 'h.4.ln_1.bias': tensor[768] 3Kb x∈[-0.545, 1.551] μ=0.008 σ=0.067,\n",
       " 'h.4.attn.bias': tensor[1, 1, 1024, 1024] n=1048576 (4Mb) x∈[0., 1.000] μ=0.500 σ=0.500,\n",
       " 'h.4.attn.c_attn.weight': tensor[768, 2304] n=1769472 (6.8Mb) x∈[-3.334, 3.100] μ=0.000 σ=0.146,\n",
       " 'h.4.attn.c_attn.bias': tensor[2304] 9Kb x∈[-2.612, 2.746] μ=0.005 σ=0.240,\n",
       " 'h.4.attn.c_proj.weight': tensor[768, 768] n=589824 (2.2Mb) x∈[-1.839, 1.836] μ=-1.140e-05 σ=0.093,\n",
       " 'h.4.attn.c_proj.bias': tensor[768] 3Kb x∈[-0.643, 0.516] μ=-0.001 σ=0.100,\n",
       " 'h.4.ln_2.weight': tensor[768] 3Kb x∈[0.070, 1.132] μ=0.273 σ=0.044,\n",
       " 'h.4.ln_2.bias': tensor[768] 3Kb x∈[-0.142, 0.143] μ=0.001 σ=0.027,\n",
       " 'h.4.mlp.c_fc.weight': tensor[768, 3072] n=2359296 (9Mb) x∈[-2.161, 2.020] μ=-0.003 σ=0.130,\n",
       " 'h.4.mlp.c_fc.bias': tensor[3072] 12Kb x∈[-0.453, 0.742] μ=-0.086 σ=0.093,\n",
       " 'h.4.mlp.c_proj.weight': tensor[3072, 768] n=2359296 (9Mb) x∈[-3.743, 4.777] μ=0.000 σ=0.091,\n",
       " 'h.4.mlp.c_proj.bias': tensor[768] 3Kb x∈[-0.668, 1.569] μ=0.002 σ=0.137,\n",
       " 'h.5.ln_1.weight': tensor[768] 3Kb x∈[0.086, 0.769] μ=0.373 σ=0.045,\n",
       " 'h.5.ln_1.bias': tensor[768] 3Kb x∈[-0.451, 1.079] μ=0.012 σ=0.049,\n",
       " 'h.5.attn.bias': tensor[1, 1, 1024, 1024] n=1048576 (4Mb) x∈[0., 1.000] μ=0.500 σ=0.500,\n",
       " 'h.5.attn.c_attn.weight': tensor[768, 2304] n=1769472 (6.8Mb) x∈[-1.392, 1.332] μ=-0.000 σ=0.128,\n",
       " 'h.5.attn.c_attn.bias': tensor[2304] 9Kb x∈[-0.559, 0.474] μ=0.001 σ=0.099,\n",
       " 'h.5.attn.c_proj.weight': tensor[768, 768] n=589824 (2.2Mb) x∈[-1.983, 1.689] μ=1.099e-05 σ=0.094,\n",
       " 'h.5.attn.c_proj.bias': tensor[768] 3Kb x∈[-0.703, 0.594] μ=-0.001 σ=0.111,\n",
       " 'h.5.ln_2.weight': tensor[768] 3Kb x∈[0.043, 1.418] μ=0.279 σ=0.051,\n",
       " 'h.5.ln_2.bias': tensor[768] 3Kb x∈[-0.305, 0.318] μ=0.008 σ=0.033,\n",
       " 'h.5.mlp.c_fc.weight': tensor[768, 3072] n=2359296 (9Mb) x∈[-1.965, 1.762] μ=-0.004 σ=0.127,\n",
       " 'h.5.mlp.c_fc.bias': tensor[3072] 12Kb x∈[-0.434, 0.670] μ=-0.085 σ=0.089,\n",
       " 'h.5.mlp.c_proj.weight': tensor[3072, 768] n=2359296 (9Mb) x∈[-2.841, 2.733] μ=0.000 σ=0.097,\n",
       " 'h.5.mlp.c_proj.bias': tensor[768] 3Kb x∈[-0.712, 1.253] μ=0.001 σ=0.106,\n",
       " 'h.6.ln_1.weight': tensor[768] 3Kb x∈[0.064, 0.780] μ=0.346 σ=0.044,\n",
       " 'h.6.ln_1.bias': tensor[768] 3Kb x∈[-0.635, 1.522] μ=0.012 σ=0.066,\n",
       " 'h.6.attn.bias': tensor[1, 1, 1024, 1024] n=1048576 (4Mb) x∈[0., 1.000] μ=0.500 σ=0.500,\n",
       " 'h.6.attn.c_attn.weight': tensor[768, 2304] n=1769472 (6.8Mb) x∈[-1.388, 1.626] μ=0.000 σ=0.127,\n",
       " 'h.6.attn.c_attn.bias': tensor[2304] 9Kb x∈[-0.811, 0.724] μ=0.002 σ=0.123,\n",
       " 'h.6.attn.c_proj.weight': tensor[768, 768] n=589824 (2.2Mb) x∈[-1.724, 1.858] μ=3.697e-05 σ=0.114,\n",
       " 'h.6.attn.c_proj.bias': tensor[768] 3Kb x∈[-0.312, 0.396] μ=-0.000 σ=0.106,\n",
       " 'h.6.ln_2.weight': tensor[768] 3Kb x∈[0.042, 1.340] μ=0.259 σ=0.047,\n",
       " 'h.6.ln_2.bias': tensor[768] 3Kb x∈[-0.273, 0.452] μ=0.004 σ=0.034,\n",
       " 'h.6.mlp.c_fc.weight': tensor[768, 3072] n=2359296 (9Mb) x∈[-1.230, 2.133] μ=-0.003 σ=0.126,\n",
       " 'h.6.mlp.c_fc.bias': tensor[3072] 12Kb x∈[-0.431, 0.682] μ=-0.086 σ=0.091,\n",
       " 'h.6.mlp.c_proj.weight': tensor[3072, 768] n=2359296 (9Mb) x∈[-2.244, 2.770] μ=9.548e-05 σ=0.107,\n",
       " 'h.6.mlp.c_proj.bias': tensor[768] 3Kb x∈[-0.676, 1.046] μ=0.002 σ=0.121,\n",
       " 'h.7.ln_1.weight': tensor[768] 3Kb x∈[0.075, 0.818] μ=0.357 σ=0.044,\n",
       " 'h.7.ln_1.bias': tensor[768] 3Kb x∈[-0.790, 1.196] μ=0.014 σ=0.059,\n",
       " 'h.7.attn.bias': tensor[1, 1, 1024, 1024] n=1048576 (4Mb) x∈[0., 1.000] μ=0.500 σ=0.500,\n",
       " 'h.7.attn.c_attn.weight': tensor[768, 2304] n=1769472 (6.8Mb) x∈[-1.683, 1.805] μ=-9.103e-05 σ=0.129,\n",
       " 'h.7.attn.c_attn.bias': tensor[2304] 9Kb x∈[-0.757, 0.727] μ=-0.004 σ=0.138,\n",
       " 'h.7.attn.c_proj.weight': tensor[768, 768] n=589824 (2.2Mb) x∈[-2.234, 1.917] μ=2.390e-05 σ=0.114,\n",
       " 'h.7.attn.c_proj.bias': tensor[768] 3Kb x∈[-0.460, 0.518] μ=-0.000 σ=0.145,\n",
       " 'h.7.ln_2.weight': tensor[768] 3Kb x∈[0.015, 1.293] μ=0.256 σ=0.047,\n",
       " 'h.7.ln_2.bias': tensor[768] 3Kb x∈[-0.467, 0.627] μ=0.009 σ=0.046,\n",
       " 'h.7.mlp.c_fc.weight': tensor[768, 3072] n=2359296 (9Mb) x∈[-0.850, 1.232] μ=-0.004 σ=0.126,\n",
       " 'h.7.mlp.c_fc.bias': tensor[3072] 12Kb x∈[-0.728, 0.832] μ=-0.088 σ=0.091,\n",
       " 'h.7.mlp.c_proj.weight': tensor[3072, 768] n=2359296 (9Mb) x∈[-4.533, 4.285] μ=8.649e-05 σ=0.119,\n",
       " 'h.7.mlp.c_proj.bias': tensor[768] 3Kb x∈[-0.726, 1.177] μ=0.001 σ=0.129,\n",
       " 'h.8.ln_1.weight': tensor[768] 3Kb x∈[0.066, 0.925] μ=0.335 σ=0.045,\n",
       " 'h.8.ln_1.bias': tensor[768] 3Kb x∈[-0.921, 1.454] μ=0.013 σ=0.069,\n",
       " 'h.8.attn.bias': tensor[1, 1, 1024, 1024] n=1048576 (4Mb) x∈[0., 1.000] μ=0.500 σ=0.500,\n",
       " 'h.8.attn.c_attn.weight': tensor[768, 2304] n=1769472 (6.8Mb) x∈[-1.724, 1.948] μ=-0.000 σ=0.127,\n",
       " 'h.8.attn.c_attn.bias': tensor[2304] 9Kb x∈[-0.869, 0.837] μ=-0.006 σ=0.131,\n",
       " 'h.8.attn.c_proj.weight': tensor[768, 768] n=589824 (2.2Mb) x∈[-2.177, 2.940] μ=8.124e-06 σ=0.122,\n",
       " 'h.8.attn.c_proj.bias': tensor[768] 3Kb x∈[-0.468, 1.157] μ=0.001 σ=0.140,\n",
       " 'h.8.ln_2.weight': tensor[768] 3Kb x∈[0.018, 1.072] μ=0.257 σ=0.041,\n",
       " 'h.8.ln_2.bias': tensor[768] 3Kb x∈[-0.695, 0.452] μ=0.000 σ=0.049,\n",
       " 'h.8.mlp.c_fc.weight': tensor[768, 3072] n=2359296 (9Mb) x∈[-1.222, 1.454] μ=-0.002 σ=0.127,\n",
       " 'h.8.mlp.c_fc.bias': tensor[3072] 12Kb x∈[-0.532, 0.993] μ=-0.085 σ=0.094,\n",
       " 'h.8.mlp.c_proj.weight': tensor[3072, 768] n=2359296 (9Mb) x∈[-3.651, 5.374] μ=4.692e-05 σ=0.135,\n",
       " 'h.8.mlp.c_proj.bias': tensor[768] 3Kb x∈[-0.827, 1.220] μ=0.001 σ=0.127,\n",
       " 'h.9.ln_1.weight': tensor[768] 3Kb x∈[0.070, 0.945] μ=0.358 σ=0.047,\n",
       " 'h.9.ln_1.bias': tensor[768] 3Kb x∈[-0.979, 1.264] μ=0.016 σ=0.064,\n",
       " 'h.9.attn.bias': tensor[1, 1, 1024, 1024] n=1048576 (4Mb) x∈[0., 1.000] μ=0.500 σ=0.500,\n",
       " 'h.9.attn.c_attn.weight': tensor[768, 2304] n=1769472 (6.8Mb) x∈[-1.789, 1.986] μ=-6.986e-05 σ=0.126,\n",
       " 'h.9.attn.c_attn.bias': tensor[2304] 9Kb x∈[-1.042, 0.804] μ=0.000 σ=0.141,\n",
       " 'h.9.attn.c_proj.weight': tensor[768, 768] n=589824 (2.2Mb) x∈[-1.660, 1.987] μ=-2.788e-05 σ=0.137,\n",
       " 'h.9.attn.c_proj.bias': tensor[768] 3Kb x∈[-0.958, 1.896] μ=0.002 σ=0.209,\n",
       " 'h.9.ln_2.weight': tensor[768] 3Kb x∈[0.018, 0.948] μ=0.265 σ=0.042,\n",
       " 'h.9.ln_2.bias': tensor[768] 3Kb x∈[-0.561, 0.514] μ=0.006 σ=0.046,\n",
       " 'h.9.mlp.c_fc.weight': tensor[768, 3072] n=2359296 (9Mb) x∈[-2.782, 2.114] μ=-0.003 σ=0.128,\n",
       " 'h.9.mlp.c_fc.bias': tensor[3072] 12Kb x∈[-0.478, 0.610] μ=-0.084 σ=0.092,\n",
       " 'h.9.mlp.c_proj.weight': tensor[3072, 768] n=2359296 (9Mb) x∈[-5.487, 4.867] μ=3.479e-05 σ=0.156,\n",
       " 'h.9.mlp.c_proj.bias': tensor[768] 3Kb x∈[-1.283, 1.490] μ=0.001 σ=0.159,\n",
       " 'h.10.ln_1.weight': tensor[768] 3Kb x∈[0.075, 0.921] μ=0.378 σ=0.056,\n",
       " 'h.10.ln_1.bias': tensor[768] 3Kb x∈[-0.653, 1.090] μ=0.019 σ=0.055,\n",
       " 'h.10.attn.bias': tensor[1, 1, 1024, 1024] n=1048576 (4Mb) x∈[0., 1.000] μ=0.500 σ=0.500,\n",
       " 'h.10.attn.c_attn.weight': tensor[768, 2304] n=1769472 (6.8Mb) x∈[-1.894, 1.796] μ=9.250e-05 σ=0.127,\n",
       " 'h.10.attn.c_attn.bias': tensor[2304] 9Kb x∈[-0.916, 0.771] μ=0.002 σ=0.145,\n",
       " 'h.10.attn.c_proj.weight': tensor[768, 768] n=589824 (2.2Mb) x∈[-4.075, 4.212] μ=-8.799e-07 σ=0.147,\n",
       " 'h.10.attn.c_proj.bias': tensor[768] 3Kb x∈[-2.988, 3.849] μ=0.002 σ=0.232,\n",
       " 'h.10.ln_2.weight': tensor[768] 3Kb x∈[0.020, 1.095] μ=0.290 σ=0.051,\n",
       " 'h.10.ln_2.bias': tensor[768] 3Kb x∈[-0.601, 0.691] μ=0.021 σ=0.045,\n",
       " 'h.10.mlp.c_fc.weight': tensor[768, 3072] n=2359296 (9Mb) x∈[-2.554, 2.133] μ=-0.003 σ=0.128,\n",
       " 'h.10.mlp.c_fc.bias': tensor[3072] 12Kb x∈[-1.073, 0.725] μ=-0.077 σ=0.091,\n",
       " 'h.10.mlp.c_proj.weight': tensor[3072, 768] n=2359296 (9Mb) x∈[-11.050, 9.301] μ=6.105e-06 σ=0.178,\n",
       " 'h.10.mlp.c_proj.bias': tensor[768] 3Kb x∈[-1.077, 1.340] μ=0.002 σ=0.194,\n",
       " 'h.11.ln_1.weight': tensor[768] 3Kb x∈[0.106, 0.958] μ=0.479 σ=0.065,\n",
       " 'h.11.ln_1.bias': tensor[768] 3Kb x∈[-0.330, 1.004] μ=0.023 σ=0.057,\n",
       " 'h.11.attn.bias': tensor[1, 1, 1024, 1024] n=1048576 (4Mb) x∈[0., 1.000] μ=0.500 σ=0.500,\n",
       " 'h.11.attn.c_attn.weight': tensor[768, 2304] n=1769472 (6.8Mb) x∈[-2.264, 2.307] μ=5.401e-05 σ=0.128,\n",
       " 'h.11.attn.c_attn.bias': tensor[2304] 9Kb x∈[-0.805, 0.599] μ=0.001 σ=0.121,\n",
       " 'h.11.attn.c_proj.weight': tensor[768, 768] n=589824 (2.2Mb) x∈[-8.882, 8.703] μ=-5.378e-05 σ=0.182,\n",
       " 'h.11.attn.c_proj.bias': tensor[768] 3Kb x∈[-5.373, 3.636] μ=-0.022 σ=0.469,\n",
       " 'h.11.ln_2.weight': tensor[768] 3Kb x∈[0.028, 1.233] μ=0.504 σ=0.090,\n",
       " 'h.11.ln_2.bias': tensor[768] 3Kb x∈[-0.209, 0.425] μ=0.009 σ=0.039,\n",
       " 'h.11.mlp.c_fc.weight': tensor[768, 3072] n=2359296 (9Mb) x∈[-1.965, 1.693] μ=-0.002 σ=0.130,\n",
       " 'h.11.mlp.c_fc.bias': tensor[3072] 12Kb x∈[-1.208, 0.515] μ=-0.064 σ=0.093,\n",
       " 'h.11.mlp.c_proj.weight': tensor[3072, 768] n=2359296 (9Mb) x∈[-9.212, 9.146] μ=-0.000 σ=0.198,\n",
       " 'h.11.mlp.c_proj.bias': tensor[768] 3Kb x∈[-0.384, 0.437] μ=0.001 σ=0.108,\n",
       " 'ln_f.weight': tensor[768] 3Kb x∈[0.004, 17.419] μ=1.508 σ=1.391,\n",
       " 'ln_f.bias': tensor[768] 3Kb x∈[-4.192, 7.368] μ=-0.003 σ=0.420}"
      ]
     },
     "execution_count": 315,
     "metadata": {},
     "output_type": "execute_result"
    }
   ],
   "source": [
    "model_state"
   ]
  },
  {
   "cell_type": "code",
   "execution_count": 111,
   "metadata": {},
   "outputs": [
    {
     "data": {
      "text/plain": [
       "tensor[1, 6, 768] n=4608 (18Kb) x∈[-6.708, 7.761] μ=0.039 σ=1.364"
      ]
     },
     "execution_count": 111,
     "metadata": {},
     "output_type": "execute_result"
    }
   ],
   "source": [
    "w_q, w_k, w_v = model_state[\"h.0.attn.c_attn.weight\"].chunk(3, dim=1)\n",
    "b_q, b_k, b_v = model_state[\"h.0.attn.c_attn.bias\"].chunk(3, dim=0)\n",
    "\n",
    "k = b_k + state_log[\"layers\"][0][\"ln_1\"] @ w_k\n",
    "k"
   ]
  },
  {
   "cell_type": "code",
   "execution_count": 106,
   "metadata": {},
   "outputs": [
    {
     "data": {
      "text/plain": [
       "tensor[1, 6, 768] n=4608 (18Kb) x∈[-6.708, 7.761] μ=0.039 σ=1.364"
      ]
     },
     "execution_count": 106,
     "metadata": {},
     "output_type": "execute_result"
    }
   ],
   "source": [
    "state_log[\"layers\"][0][\"attention_log\"][\"key\"]"
   ]
  },
  {
   "cell_type": "code",
   "execution_count": 113,
   "metadata": {},
   "outputs": [
    {
     "data": {
      "text/plain": [
       "True"
      ]
     },
     "execution_count": 113,
     "metadata": {},
     "output_type": "execute_result"
    }
   ],
   "source": [
    "torch.allclose(k, state_log[\"layers\"][0][\"attention_log\"][\"key\"], atol=1e-5)"
   ]
  },
  {
   "cell_type": "code",
   "execution_count": 103,
   "metadata": {},
   "outputs": [
    {
     "data": {
      "image/png": "[encoded data removed]",
      "text/plain": [
       "<lovely_tensors.repr_chans.ChanProxy at 0x7f796c7582e0>"
      ]
     },
     "execution_count": 103,
     "metadata": {},
     "output_type": "execute_result"
    }
   ],
   "source": [
    "k.chans(scale=4)"
   ]
  },
  {
   "cell_type": "code",
   "execution_count": 104,
   "metadata": {},
   "outputs": [
    {
     "data": {
      "image/png": "[encoded data removed]",
      "text/plain": [
       "<lovely_tensors.repr_chans.ChanProxy at 0x7f796c634040>"
      ]
     },
     "execution_count": 104,
     "metadata": {},
     "output_type": "execute_result"
    }
   ],
   "source": [
    "state_log[\"layers\"][0][\"attention_log\"][\"key\"].chans(scale=4)"
   ]
  },
  {
   "cell_type": "code",
   "execution_count": 109,
   "metadata": {},
   "outputs": [
    {
     "data": {
      "text/plain": [
       "tensor[1, 6, 768] n=4608 (18Kb) x∈[-2.861e-06, 3.576e-06] μ=3.154e-10 σ=2.318e-07"
      ]
     },
     "execution_count": 109,
     "metadata": {},
     "output_type": "execute_result"
    }
   ],
   "source": [
    "(k - state_log[\"layers\"][0][\"attention_log\"][\"key\"])"
   ]
  },
  {
   "cell_type": "code",
   "execution_count": null,
   "metadata": {},
   "outputs": [],
   "source": [
    "torch.nn.Conv1d(\n",
    "    in_channels=768, out_channels=768 * 3, kernel_size=1, bias=True\n",
    ").state_dict()"
   ]
  },
  {
   "cell_type": "code",
   "execution_count": 80,
   "metadata": {},
   "outputs": [
    {
     "data": {
      "text/plain": [
       "tensor[768, 2304] n=1769472 (6.8Mb) x∈[-2.844, 2.796] μ=5.338e-05 σ=0.200"
      ]
     },
     "execution_count": 80,
     "metadata": {},
     "output_type": "execute_result"
    }
   ],
   "source": [
    "model_state[\"h.0.attn.c_attn.weight\"]"
   ]
  },
  {
   "cell_type": "code",
   "execution_count": 81,
   "metadata": {},
   "outputs": [
    {
     "data": {
      "text/plain": [
       "OrderedDict([('weight',\n",
       "              tensor[2304, 768] n=1769472 (6.8Mb) x∈[-0.036, 0.036] μ=6.789e-06 σ=0.021),\n",
       "             ('bias', tensor[2304] 9Kb x∈[-0.036, 0.036] μ=-0.000 σ=0.021)])"
      ]
     },
     "execution_count": 81,
     "metadata": {},
     "output_type": "execute_result"
    }
   ],
   "source": [
    "torch.nn.Linear(in_features=768, out_features=768 * 3, bias=True).state_dict()"
   ]
  },
  {
   "cell_type": "code",
   "execution_count": null,
   "metadata": {},
   "outputs": [],
   "source": []
  },
  {
   "cell_type": "code",
   "execution_count": 126,
   "metadata": {},
   "outputs": [],
   "source": [
    "from IPython.display import display"
   ]
  },
  {
   "cell_type": "code",
   "execution_count": 128,
   "metadata": {},
   "outputs": [],
   "source": [
    "from IPython.core.interactiveshell import InteractiveShell\n",
    "\n",
    "InteractiveShell.ast_node_interactivity = \"all\""
   ]
  },
  {
   "cell_type": "code",
   "execution_count": 356,
   "metadata": {},
   "outputs": [
    {
     "name": "stdout",
     "output_type": "stream",
     "text": [
      "Embeddings are correct\n",
      "Running transformer block 0\n",
      "input_hidden_state= tensor[12, 768] n=9216 (36Kb) x∈[-4.562, 3.703] μ=-0.003 σ=0.208\n",
      "ln1= tensor[12, 768] n=9216 (36Kb) x∈[-0.809, 0.678] μ=-0.005 σ=0.100\n",
      "Key= tensor[12, 768] n=9216 (36Kb) x∈[-6.061, 7.721] μ=0.037 σ=1.444\n",
      "Query= tensor[12, 768] n=9216 (36Kb) x∈[-4.105, 4.369] μ=-0.055 σ=0.931\n",
      "Value= tensor[12, 768] n=9216 (36Kb) x∈[-1.188, 3.213] μ=0.008 σ=0.237\n",
      "attention_output= tensor[12, 12, 64] n=9216 (36Kb) x∈[-0.936, 1.915] μ=0.008 σ=0.158\n",
      "out_tuple= [tensor[12, 64] n=768 (3Kb) x∈[-0.345, 0.800] μ=0.012 σ=0.105, tensor[12, 64] n=768 (3Kb) x∈[-0.694, 0.919] μ=0.018 σ=0.208, tensor[12, 64] n=768 (3Kb) x∈[-0.293, 1.330] μ=0.018 σ=0.155, tensor[12, 64] n=768 (3Kb) x∈[-0.903, 0.789] μ=0.016 σ=0.173, tensor[12, 64] n=768 (3Kb) x∈[-0.417, 0.583] μ=0.005 σ=0.122, tensor[12, 64] n=768 (3Kb) x∈[-0.662, 0.634] μ=-0.005 σ=0.165, tensor[12, 64] n=768 (3Kb) x∈[-0.377, 0.404] μ=0.006 σ=0.121, tensor[12, 64] n=768 (3Kb) x∈[-0.259, 0.678] μ=0.018 σ=0.119, tensor[12, 64] n=768 (3Kb) x∈[-0.816, 0.689] μ=-0.012 σ=0.127, tensor[12, 64] n=768 (3Kb) x∈[-0.936, 1.126] μ=0.029 σ=0.219, tensor[12, 64] n=768 (3Kb) x∈[-0.701, 1.915] μ=0.004 σ=0.204, tensor[12, 64] n=768 (3Kb) x∈[-0.521, 0.600] μ=-0.015 σ=0.114]\n",
      "combined_attention_output= tensor[12, 768] n=9216 (36Kb) x∈[-0.936, 1.915] μ=0.008 σ=0.158\n",
      "after_residual= tensor[12, 768] n=9216 (36Kb) x∈[-14.136, 13.728] μ=0.026 σ=1.135\n",
      "after_residual_2= tensor[12, 768] n=9216 (36Kb) x∈[-67.135, 95.801] μ=0.038 σ=2.398\n",
      "Running transformer block 1\n",
      "input_hidden_state= tensor[12, 768] n=9216 (36Kb) x∈[-67.135, 95.801] μ=0.038 σ=2.398\n",
      "ln1= tensor[12, 768] n=9216 (36Kb) x∈[-1.531, 1.629] μ=-0.006 σ=0.139\n",
      "Key= tensor[12, 768] n=9216 (36Kb) x∈[-4.712, 4.058] μ=-0.026 σ=1.085\n",
      "Query= tensor[12, 768] n=9216 (36Kb) x∈[-4.392, 3.578] μ=0.001 σ=0.843\n",
      "Value= tensor[12, 768] n=9216 (36Kb) x∈[-3.564, 4.132] μ=0.008 σ=0.469\n",
      "attention_output= tensor[12, 12, 64] n=9216 (36Kb) x∈[-3.564, 2.394] μ=0.002 σ=0.267\n",
      "out_tuple= [tensor[12, 64] n=768 (3Kb) x∈[-0.402, 1.546] μ=0.039 σ=0.223, tensor[12, 64] n=768 (3Kb) x∈[-1.504, 1.277] μ=0.034 σ=0.298, tensor[12, 64] n=768 (3Kb) x∈[-0.774, 0.487] μ=-0.014 σ=0.164, tensor[12, 64] n=768 (3Kb) x∈[-1.029, 2.394] μ=0.043 σ=0.349, tensor[12, 64] n=768 (3Kb) x∈[-1.463, 0.999] μ=-0.065 σ=0.327, tensor[12, 64] n=768 (3Kb) x∈[-0.583, 0.941] μ=0.024 σ=0.216, tensor[12, 64] n=768 (3Kb) x∈[-1.303, 0.411] μ=-0.018 σ=0.197, tensor[12, 64] n=768 (3Kb) x∈[-0.946, 0.751] μ=0.037 σ=0.240, tensor[12, 64] n=768 (3Kb) x∈[-0.468, 1.484] μ=0.007 σ=0.220, tensor[12, 64] n=768 (3Kb) x∈[-1.157, 0.866] μ=-0.013 σ=0.195, tensor[12, 64] n=768 (3Kb) x∈[-3.564, 1.436] μ=-0.058 σ=0.405, tensor[12, 64] n=768 (3Kb) x∈[-0.925, 1.577] μ=0.008 σ=0.229]\n",
      "combined_attention_output= tensor[12, 768] n=9216 (36Kb) x∈[-3.564, 2.394] μ=0.002 σ=0.267\n",
      "after_residual= tensor[12, 768] n=9216 (36Kb) x∈[-67.762, 127.841] μ=0.034 σ=2.574\n",
      "after_residual_2= tensor[12, 768] n=9216 (36Kb) x∈[-71.887, 614.319] μ=0.097 σ=6.919\n",
      "Running transformer block 2\n",
      "input_hidden_state= tensor[12, 768] n=9216 (36Kb) x∈[-71.887, 614.319] μ=0.097 σ=6.919\n",
      "ln1= tensor[12, 768] n=9216 (36Kb) x∈[-5.023, 3.797] μ=-0.001 σ=0.265\n",
      "Key= tensor[12, 768] n=9216 (36Kb) x∈[-8.294, 6.973] μ=-0.031 σ=1.650\n",
      "Query= tensor[12, 768] n=9216 (36Kb) x∈[-7.965, 4.801] μ=-0.025 σ=1.171\n",
      "Value= tensor[12, 768] n=9216 (36Kb) x∈[-4.778, 3.360] μ=-0.009 σ=0.521\n",
      "attention_output= tensor[12, 12, 64] n=9216 (36Kb) x∈[-2.019, 2.226] μ=-0.005 σ=0.263\n",
      "out_tuple= [tensor[12, 64] n=768 (3Kb) x∈[-1.053, 2.226] μ=0.030 σ=0.296, tensor[12, 64] n=768 (3Kb) x∈[-0.418, 0.715] μ=-0.002 σ=0.102, tensor[12, 64] n=768 (3Kb) x∈[-1.581, 0.690] μ=-0.019 σ=0.253, tensor[12, 64] n=768 (3Kb) x∈[-1.768, 0.366] μ=-0.043 σ=0.270, tensor[12, 64] n=768 (3Kb) x∈[-2.005, 1.231] μ=-0.018 σ=0.287, tensor[12, 64] n=768 (3Kb) x∈[-0.457, 2.095] μ=0.051 σ=0.277, tensor[12, 64] n=768 (3Kb) x∈[-0.924, 0.922] μ=-0.001 σ=0.171, tensor[12, 64] n=768 (3Kb) x∈[-0.854, 0.936] μ=-0.032 σ=0.243, tensor[12, 64] n=768 (3Kb) x∈[-2.019, 1.598] μ=0.005 σ=0.311, tensor[12, 64] n=768 (3Kb) x∈[-0.810, 1.592] μ=0.044 σ=0.313, tensor[12, 64] n=768 (3Kb) x∈[-1.656, 1.324] μ=-0.042 σ=0.315, tensor[12, 64] n=768 (3Kb) x∈[-1.443, 0.430] μ=-0.037 σ=0.207]\n",
      "combined_attention_output= tensor[12, 768] n=9216 (36Kb) x∈[-2.019, 2.226] μ=-0.005 σ=0.263\n",
      "after_residual= tensor[12, 768] n=9216 (36Kb) x∈[-71.922, 614.280] μ=0.098 σ=6.949\n",
      "after_residual_2= tensor[12, 768] n=9216 (36Kb) x∈[-71.830, 2.466e+03] μ=0.359 σ=26.792\n",
      "Running transformer block 3\n",
      "input_hidden_state= tensor[12, 768] n=9216 (36Kb) x∈[-71.830, 2.466e+03] μ=0.359 σ=26.792\n",
      "ln1= tensor[12, 768] n=9216 (36Kb) x∈[-7.339, 5.073] μ=0.001 σ=0.334\n",
      "Key= tensor[12, 768] n=9216 (36Kb) x∈[-16.963, 14.972] μ=0.060 σ=3.425\n",
      "Query= tensor[12, 768] n=9216 (36Kb) x∈[-6.263, 5.838] μ=-0.093 σ=1.324\n",
      "Value= tensor[12, 768] n=9216 (36Kb) x∈[-3.436, 4.030] μ=0.014 σ=0.522\n",
      "attention_output= tensor[12, 12, 64] n=9216 (36Kb) x∈[-2.119, 2.391] μ=0.008 σ=0.249\n",
      "out_tuple= [tensor[12, 64] n=768 (3Kb) x∈[-1.423, 0.566] μ=-0.028 σ=0.221, tensor[12, 64] n=768 (3Kb) x∈[-1.545, 0.387] μ=-0.028 σ=0.201, tensor[12, 64] n=768 (3Kb) x∈[-0.853, 1.730] μ=0.024 σ=0.254, tensor[12, 64] n=768 (3Kb) x∈[-1.946, 1.430] μ=0.027 σ=0.265, tensor[12, 64] n=768 (3Kb) x∈[-0.878, 1.529] μ=-0.003 σ=0.235, tensor[12, 64] n=768 (3Kb) x∈[-0.529, 0.617] μ=0.021 σ=0.150, tensor[12, 64] n=768 (3Kb) x∈[-2.119, 0.800] μ=-0.021 σ=0.288, tensor[12, 64] n=768 (3Kb) x∈[-1.058, 2.391] μ=0.044 σ=0.336, tensor[12, 64] n=768 (3Kb) x∈[-0.404, 2.262] μ=0.026 σ=0.276, tensor[12, 64] n=768 (3Kb) x∈[-0.905, 0.761] μ=0.000 σ=0.163, tensor[12, 64] n=768 (3Kb) x∈[-0.578, 0.537] μ=-0.006 σ=0.156, tensor[12, 64] n=768 (3Kb) x∈[-1.460, 2.056] μ=0.034 σ=0.340]\n",
      "combined_attention_output= tensor[12, 768] n=9216 (36Kb) x∈[-2.119, 2.391] μ=0.008 σ=0.249\n",
      "after_residual= tensor[12, 768] n=9216 (36Kb) x∈[-71.994, 2.463e+03] μ=0.358 σ=26.769\n",
      "after_residual_2= tensor[12, 768] n=9216 (36Kb) x∈[-71.220, 2.638e+03] μ=0.381 σ=28.719\n",
      "Running transformer block 4\n",
      "input_hidden_state= tensor[12, 768] n=9216 (36Kb) x∈[-71.220, 2.638e+03] μ=0.381 σ=28.719\n",
      "ln1= tensor[12, 768] n=9216 (36Kb) x∈[-6.116, 4.450] μ=0.004 σ=0.314\n",
      "Key= tensor[12, 768] n=9216 (36Kb) x∈[-19.207, 19.433] μ=-0.111 σ=3.111\n",
      "Query= tensor[12, 768] n=9216 (36Kb) x∈[-8.850, 7.963] μ=0.055 σ=1.377\n",
      "Value= tensor[12, 768] n=9216 (36Kb) x∈[-2.900, 3.828] μ=-0.008 σ=0.548\n",
      "attention_output= tensor[12, 12, 64] n=9216 (36Kb) x∈[-1.927, 1.286] μ=-0.007 σ=0.223\n",
      "out_tuple= [tensor[12, 64] n=768 (3Kb) x∈[-0.477, 1.137] μ=0.025 σ=0.185, tensor[12, 64] n=768 (3Kb) x∈[-1.491, 0.820] μ=-0.033 σ=0.233, tensor[12, 64] n=768 (3Kb) x∈[-0.261, 0.326] μ=0.007 σ=0.079, tensor[12, 64] n=768 (3Kb) x∈[-1.251, 1.286] μ=-0.023 σ=0.307, tensor[12, 64] n=768 (3Kb) x∈[-0.910, 0.743] μ=-0.021 σ=0.181, tensor[12, 64] n=768 (3Kb) x∈[-0.616, 1.150] μ=0.001 σ=0.165, tensor[12, 64] n=768 (3Kb) x∈[-0.957, 1.043] μ=0.003 σ=0.208, tensor[12, 64] n=768 (3Kb) x∈[-1.300, 0.893] μ=0.012 σ=0.270, tensor[12, 64] n=768 (3Kb) x∈[-0.274, 0.337] μ=0.000 σ=0.071, tensor[12, 64] n=768 (3Kb) x∈[-0.887, 0.571] μ=-0.025 σ=0.171, tensor[12, 64] n=768 (3Kb) x∈[-1.293, 1.015] μ=-0.006 σ=0.162, tensor[12, 64] n=768 (3Kb) x∈[-1.927, 1.008] μ=-0.022 σ=0.410]\n",
      "combined_attention_output= tensor[12, 768] n=9216 (36Kb) x∈[-1.927, 1.286] μ=-0.007 σ=0.223\n",
      "after_residual= tensor[12, 768] n=9216 (36Kb) x∈[-71.334, 2.637e+03] μ=0.382 σ=28.712\n",
      "after_residual_2= tensor[12, 768] n=9216 (36Kb) x∈[-69.498, 2.785e+03] μ=0.406 σ=30.282\n",
      "Running transformer block 5\n",
      "input_hidden_state= tensor[12, 768] n=9216 (36Kb) x∈[-69.498, 2.785e+03] μ=0.406 σ=30.282\n",
      "ln1= tensor[12, 768] n=9216 (36Kb) x∈[-7.147, 5.111] μ=0.008 σ=0.373\n",
      "Key= tensor[12, 768] n=9216 (36Kb) x∈[-12.773, 13.010] μ=0.004 σ=1.870\n",
      "Query= tensor[12, 768] n=9216 (36Kb) x∈[-8.256, 6.335] μ=-0.069 σ=1.417\n",
      "Value= tensor[12, 768] n=9216 (36Kb) x∈[-3.382, 3.642] μ=0.012 σ=0.706\n",
      "attention_output= tensor[12, 12, 64] n=9216 (36Kb) x∈[-2.294, 2.252] μ=-0.003 σ=0.273\n",
      "out_tuple= [tensor[12, 64] n=768 (3Kb) x∈[-1.895, 1.028] μ=-0.024 σ=0.302, tensor[12, 64] n=768 (3Kb) x∈[-2.294, 1.398] μ=-0.007 σ=0.352, tensor[12, 64] n=768 (3Kb) x∈[-1.206, 0.882] μ=-0.010 σ=0.275, tensor[12, 64] n=768 (3Kb) x∈[-0.618, 0.704] μ=0.025 σ=0.170, tensor[12, 64] n=768 (3Kb) x∈[-0.767, 0.873] μ=0.005 σ=0.206, tensor[12, 64] n=768 (3Kb) x∈[-1.292, 2.252] μ=0.002 σ=0.313, tensor[12, 64] n=768 (3Kb) x∈[-0.623, 1.571] μ=0.019 σ=0.172, tensor[12, 64] n=768 (3Kb) x∈[-0.856, 1.172] μ=-0.006 σ=0.250, tensor[12, 64] n=768 (3Kb) x∈[-1.224, 2.077] μ=-0.004 σ=0.261, tensor[12, 64] n=768 (3Kb) x∈[-1.580, 1.597] μ=0.004 σ=0.371, tensor[12, 64] n=768 (3Kb) x∈[-1.958, 0.902] μ=-0.052 σ=0.292, tensor[12, 64] n=768 (3Kb) x∈[-0.878, 0.703] μ=0.007 σ=0.213]\n",
      "combined_attention_output= tensor[12, 768] n=9216 (36Kb) x∈[-2.294, 2.252] μ=-0.003 σ=0.273\n",
      "after_residual= tensor[12, 768] n=9216 (36Kb) x∈[-69.607, 2.784e+03] μ=0.408 σ=30.274\n",
      "after_residual_2= tensor[12, 768] n=9216 (36Kb) x∈[-64.442, 2.883e+03] μ=0.431 σ=31.275\n",
      "Running transformer block 6\n",
      "input_hidden_state= tensor[12, 768] n=9216 (36Kb) x∈[-64.442, 2.883e+03] μ=0.431 σ=31.275\n",
      "ln1= tensor[12, 768] n=9216 (36Kb) x∈[-6.653, 4.775] μ=0.007 σ=0.343\n",
      "Key= tensor[12, 768] n=9216 (36Kb) x∈[-14.063, 11.085] μ=-0.001 σ=1.812\n",
      "Query= tensor[12, 768] n=9216 (36Kb) x∈[-6.423, 7.220] μ=0.036 σ=1.279\n",
      "Value= tensor[12, 768] n=9216 (36Kb) x∈[-3.349, 3.706] μ=0.015 σ=0.722\n",
      "attention_output= tensor[12, 12, 64] n=9216 (36Kb) x∈[-1.505, 1.572] μ=0.004 σ=0.195\n",
      "out_tuple= [tensor[12, 64] n=768 (3Kb) x∈[-0.934, 1.572] μ=0.015 σ=0.263, tensor[12, 64] n=768 (3Kb) x∈[-0.971, 1.084] μ=-0.006 σ=0.244, tensor[12, 64] n=768 (3Kb) x∈[-0.546, 0.599] μ=-0.004 σ=0.131, tensor[12, 64] n=768 (3Kb) x∈[-1.023, 0.713] μ=-0.012 σ=0.191, tensor[12, 64] n=768 (3Kb) x∈[-0.391, 0.424] μ=-0.002 σ=0.108, tensor[12, 64] n=768 (3Kb) x∈[-0.522, 0.801] μ=0.028 σ=0.191, tensor[12, 64] n=768 (3Kb) x∈[-0.699, 0.805] μ=0.012 σ=0.190, tensor[12, 64] n=768 (3Kb) x∈[-1.012, 0.739] μ=-0.000 σ=0.202, tensor[12, 64] n=768 (3Kb) x∈[-1.505, 1.148] μ=0.004 σ=0.256, tensor[12, 64] n=768 (3Kb) x∈[-0.646, 1.407] μ=0.027 σ=0.211, tensor[12, 64] n=768 (3Kb) x∈[-0.631, 1.136] μ=0.011 σ=0.105, tensor[12, 64] n=768 (3Kb) x∈[-0.831, 0.932] μ=-0.022 σ=0.164]\n",
      "combined_attention_output= tensor[12, 768] n=9216 (36Kb) x∈[-1.505, 1.572] μ=0.004 σ=0.195\n",
      "after_residual= tensor[12, 768] n=9216 (36Kb) x∈[-64.635, 2.883e+03] μ=0.437 σ=31.292\n",
      "after_residual_2= tensor[12, 768] n=9216 (36Kb) x∈[-58.702, 2.941e+03] μ=0.464 σ=31.890\n",
      "Running transformer block 7\n",
      "input_hidden_state= tensor[12, 768] n=9216 (36Kb) x∈[-58.702, 2.941e+03] μ=0.464 σ=31.890\n",
      "ln1= tensor[12, 768] n=9216 (36Kb) x∈[-6.627, 4.379] μ=0.009 σ=0.341\n",
      "Key= tensor[12, 768] n=9216 (36Kb) x∈[-10.139, 13.888] μ=-0.008 σ=1.754\n",
      "Query= tensor[12, 768] n=9216 (36Kb) x∈[-8.064, 6.799] μ=0.020 σ=1.376\n",
      "Value= tensor[12, 768] n=9216 (36Kb) x∈[-4.504, 4.178] μ=-0.009 σ=0.790\n",
      "attention_output= tensor[12, 12, 64] n=9216 (36Kb) x∈[-1.596, 1.381] μ=-0.001 σ=0.182\n",
      "out_tuple= [tensor[12, 64] n=768 (3Kb) x∈[-0.615, 0.731] μ=0.000 σ=0.131, tensor[12, 64] n=768 (3Kb) x∈[-0.463, 0.405] μ=-0.001 σ=0.112, tensor[12, 64] n=768 (3Kb) x∈[-0.445, 0.341] μ=-0.012 σ=0.091, tensor[12, 64] n=768 (3Kb) x∈[-1.417, 0.750] μ=0.009 σ=0.201, tensor[12, 64] n=768 (3Kb) x∈[-1.367, 0.902] μ=0.003 σ=0.202, tensor[12, 64] n=768 (3Kb) x∈[-1.063, 0.798] μ=-0.002 σ=0.175, tensor[12, 64] n=768 (3Kb) x∈[-0.802, 0.744] μ=-0.005 σ=0.189, tensor[12, 64] n=768 (3Kb) x∈[-1.596, 1.381] μ=-0.023 σ=0.329, tensor[12, 64] n=768 (3Kb) x∈[-0.932, 1.255] μ=0.011 σ=0.225, tensor[12, 64] n=768 (3Kb) x∈[-0.851, 0.711] μ=0.010 σ=0.141, tensor[12, 64] n=768 (3Kb) x∈[-0.899, 0.281] μ=-0.016 σ=0.124, tensor[12, 64] n=768 (3Kb) x∈[-0.563, 0.916] μ=0.019 σ=0.132]\n",
      "combined_attention_output= tensor[12, 768] n=9216 (36Kb) x∈[-1.596, 1.381] μ=-0.001 σ=0.182\n",
      "after_residual= tensor[12, 768] n=9216 (36Kb) x∈[-59.030, 2.942e+03] μ=0.475 σ=31.913\n",
      "after_residual_2= tensor[12, 768] n=9216 (36Kb) x∈[-53.522, 2.977e+03] μ=0.492 σ=32.285\n",
      "Running transformer block 8\n",
      "input_hidden_state= tensor[12, 768] n=9216 (36Kb) x∈[-53.522, 2.977e+03] μ=0.492 σ=32.285\n",
      "ln1= tensor[12, 768] n=9216 (36Kb) x∈[-6.373, 4.452] μ=0.007 σ=0.325\n",
      "Key= tensor[12, 768] n=9216 (36Kb) x∈[-10.911, 9.597] μ=-0.017 σ=1.643\n",
      "Query= tensor[12, 768] n=9216 (36Kb) x∈[-9.196, 6.155] μ=-0.080 σ=1.209\n",
      "Value= tensor[12, 768] n=9216 (36Kb) x∈[-3.570, 4.179] μ=0.019 σ=0.796\n",
      "attention_output= tensor[12, 12, 64] n=9216 (36Kb) x∈[-3.066, 2.390] μ=0.007 σ=0.251\n",
      "out_tuple= [tensor[12, 64] n=768 (3Kb) x∈[-0.368, 0.316] μ=-0.016 σ=0.090, tensor[12, 64] n=768 (3Kb) x∈[-1.240, 1.202] μ=0.017 σ=0.186, tensor[12, 64] n=768 (3Kb) x∈[-0.374, 0.370] μ=0.005 σ=0.092, tensor[12, 64] n=768 (3Kb) x∈[-0.898, 0.900] μ=0.024 σ=0.203, tensor[12, 64] n=768 (3Kb) x∈[-1.457, 0.636] μ=-0.030 σ=0.185, tensor[12, 64] n=768 (3Kb) x∈[-1.122, 0.902] μ=-0.020 σ=0.232, tensor[12, 64] n=768 (3Kb) x∈[-1.687, 2.390] μ=0.040 σ=0.325, tensor[12, 64] n=768 (3Kb) x∈[-0.925, 1.132] μ=0.036 σ=0.279, tensor[12, 64] n=768 (3Kb) x∈[-1.139, 1.355] μ=-0.009 σ=0.239, tensor[12, 64] n=768 (3Kb) x∈[-0.688, 0.494] μ=0.008 σ=0.156, tensor[12, 64] n=768 (3Kb) x∈[-1.810, 1.895] μ=0.022 σ=0.405, tensor[12, 64] n=768 (3Kb) x∈[-3.066, 2.169] μ=0.005 σ=0.381]\n",
      "combined_attention_output= tensor[12, 768] n=9216 (36Kb) x∈[-3.066, 2.390] μ=0.007 σ=0.251\n",
      "after_residual= tensor[12, 768] n=9216 (36Kb) x∈[-53.642, 2.979e+03] μ=0.501 σ=32.335\n",
      "after_residual_2= tensor[12, 768] n=9216 (36Kb) x∈[-47.814, 2.999e+03] μ=0.518 σ=32.599\n",
      "Running transformer block 9\n",
      "input_hidden_state= tensor[12, 768] n=9216 (36Kb) x∈[-47.814, 2.999e+03] μ=0.518 σ=32.599\n",
      "ln1= tensor[12, 768] n=9216 (36Kb) x∈[-5.483, 3.749] μ=0.010 σ=0.303\n",
      "Key= tensor[12, 768] n=9216 (36Kb) x∈[-11.233, 7.114] μ=-0.058 σ=1.416\n",
      "Query= tensor[12, 768] n=9216 (36Kb) x∈[-10.640, 7.453] μ=-0.016 σ=1.207\n",
      "Value= tensor[12, 768] n=9216 (36Kb) x∈[-4.521, 4.223] μ=0.006 σ=0.820\n",
      "attention_output= tensor[12, 12, 64] n=9216 (36Kb) x∈[-1.834, 2.744] μ=0.003 σ=0.191\n",
      "out_tuple= [tensor[12, 64] n=768 (3Kb) x∈[-0.546, 0.717] μ=-0.005 σ=0.136, tensor[12, 64] n=768 (3Kb) x∈[-0.994, 0.369] μ=-0.014 σ=0.112, tensor[12, 64] n=768 (3Kb) x∈[-1.092, 0.887] μ=-0.006 σ=0.169, tensor[12, 64] n=768 (3Kb) x∈[-1.371, 1.628] μ=-0.019 σ=0.286, tensor[12, 64] n=768 (3Kb) x∈[-0.378, 0.322] μ=0.016 σ=0.106, tensor[12, 64] n=768 (3Kb) x∈[-0.552, 0.596] μ=-0.002 σ=0.155, tensor[12, 64] n=768 (3Kb) x∈[-0.375, 0.574] μ=0.006 σ=0.071, tensor[12, 64] n=768 (3Kb) x∈[-0.848, 0.891] μ=0.030 σ=0.193, tensor[12, 64] n=768 (3Kb) x∈[-1.834, 2.744] μ=0.010 σ=0.412, tensor[12, 64] n=768 (3Kb) x∈[-0.476, 0.673] μ=0.005 σ=0.101, tensor[12, 64] n=768 (3Kb) x∈[-0.725, 1.005] μ=-0.005 σ=0.167, tensor[12, 64] n=768 (3Kb) x∈[-0.217, 0.815] μ=0.018 σ=0.107]\n",
      "combined_attention_output= tensor[12, 768] n=9216 (36Kb) x∈[-1.834, 2.744] μ=0.003 σ=0.191\n",
      "after_residual= tensor[12, 768] n=9216 (36Kb) x∈[-54.445, 3.000e+03] μ=0.528 σ=32.662\n",
      "after_residual_2= tensor[12, 768] n=9216 (36Kb) x∈[-67.662, 3.011e+03] μ=0.541 σ=32.849\n",
      "Running transformer block 10\n",
      "input_hidden_state= tensor[12, 768] n=9216 (36Kb) x∈[-67.662, 3.011e+03] μ=0.541 σ=32.849\n",
      "ln1= tensor[12, 768] n=9216 (36Kb) x∈[-5.468, 3.402] μ=0.013 σ=0.294\n",
      "Key= tensor[12, 768] n=9216 (36Kb) x∈[-12.169, 8.217] μ=-0.025 σ=1.373\n",
      "Query= tensor[12, 768] n=9216 (36Kb) x∈[-7.664, 6.644] μ=0.026 σ=1.164\n",
      "Value= tensor[12, 768] n=9216 (36Kb) x∈[-4.977, 4.425] μ=-0.005 σ=0.911\n",
      "attention_output= tensor[12, 12, 64] n=9216 (36Kb) x∈[-2.750, 2.018] μ=-0.005 σ=0.254\n",
      "out_tuple= [tensor[12, 64] n=768 (3Kb) x∈[-0.771, 0.878] μ=0.012 σ=0.252, tensor[12, 64] n=768 (3Kb) x∈[-0.945, 1.523] μ=0.005 σ=0.200, tensor[12, 64] n=768 (3Kb) x∈[-1.216, 0.623] μ=-0.007 σ=0.166, tensor[12, 64] n=768 (3Kb) x∈[-2.750, 1.248] μ=-0.062 σ=0.344, tensor[12, 64] n=768 (3Kb) x∈[-2.160, 0.905] μ=-0.008 σ=0.233, tensor[12, 64] n=768 (3Kb) x∈[-0.905, 1.882] μ=0.032 σ=0.207, tensor[12, 64] n=768 (3Kb) x∈[-0.729, 1.061] μ=-0.009 σ=0.214, tensor[12, 64] n=768 (3Kb) x∈[-1.614, 2.018] μ=0.012 σ=0.448, tensor[12, 64] n=768 (3Kb) x∈[-0.640, 0.662] μ=-0.003 σ=0.111, tensor[12, 64] n=768 (3Kb) x∈[-2.564, 1.056] μ=-0.020 σ=0.268, tensor[12, 64] n=768 (3Kb) x∈[-0.942, 1.437] μ=0.000 σ=0.201, tensor[12, 64] n=768 (3Kb) x∈[-1.611, 1.189] μ=-0.006 σ=0.226]\n",
      "combined_attention_output= tensor[12, 768] n=9216 (36Kb) x∈[-2.750, 2.018] μ=-0.005 σ=0.254\n",
      "after_residual= tensor[12, 768] n=9216 (36Kb) x∈[-87.497, 3.011e+03] μ=0.555 σ=32.969\n",
      "after_residual_2= tensor[12, 768] n=9216 (36Kb) x∈[-147.578, 3.013e+03] μ=0.667 σ=33.605\n",
      "Running transformer block 11\n",
      "input_hidden_state= tensor[12, 768] n=9216 (36Kb) x∈[-147.578, 3.013e+03] μ=0.667 σ=33.605\n",
      "ln1= tensor[12, 768] n=9216 (36Kb) x∈[-3.465, 5.235] μ=0.014 σ=0.263\n",
      "Key= tensor[12, 768] n=9216 (36Kb) x∈[-6.006, 5.357] μ=0.014 σ=1.007\n",
      "Query= tensor[12, 768] n=9216 (36Kb) x∈[-4.896, 5.754] μ=0.007 σ=1.053\n",
      "Value= tensor[12, 768] n=9216 (36Kb) x∈[-13.447, 13.465] μ=-0.002 σ=1.137\n",
      "attention_output= tensor[12, 12, 64] n=9216 (36Kb) x∈[-13.447, 13.465] μ=0.006 σ=0.702\n",
      "out_tuple= [tensor[12, 64] n=768 (3Kb) x∈[-2.583, 2.546] μ=0.089 σ=0.719, tensor[12, 64] n=768 (3Kb) x∈[-1.114, 0.505] μ=-0.032 σ=0.199, tensor[12, 64] n=768 (3Kb) x∈[-1.034, 0.904] μ=0.016 σ=0.234, tensor[12, 64] n=768 (3Kb) x∈[-1.082, 1.241] μ=0.021 σ=0.284, tensor[12, 64] n=768 (3Kb) x∈[-0.871, 0.833] μ=0.016 σ=0.228, tensor[12, 64] n=768 (3Kb) x∈[-1.785, 0.484] μ=-0.032 σ=0.188, tensor[12, 64] n=768 (3Kb) x∈[-0.341, 1.001] μ=0.010 σ=0.135, tensor[12, 64] n=768 (3Kb) x∈[-0.583, 0.941] μ=0.000 σ=0.163, tensor[12, 64] n=768 (3Kb) x∈[-13.447, 13.465] μ=0.014 σ=2.220, tensor[12, 64] n=768 (3Kb) x∈[-0.511, 0.478] μ=-0.017 σ=0.111, tensor[12, 64] n=768 (3Kb) x∈[-0.873, 1.169] μ=0.011 σ=0.272, tensor[12, 64] n=768 (3Kb) x∈[-1.119, 0.927] μ=-0.028 σ=0.273]\n",
      "combined_attention_output= tensor[12, 768] n=9216 (36Kb) x∈[-13.447, 13.465] μ=0.006 σ=0.702\n",
      "after_residual= tensor[12, 768] n=9216 (36Kb) x∈[-179.936, 442.638] μ=0.009 σ=14.590\n",
      "after_residual_2= tensor[12, 768] n=9216 (36Kb) x∈[-190.304, 371.916] μ=-0.011 σ=15.434\n"
     ]
    }
   ],
   "source": [
    "import math\n",
    "\n",
    "from transformers import GPT2Model\n",
    "from transformers.models.gpt2.modeling_gpt2 import state_log\n",
    "\n",
    "model = GPT2Model.from_pretrained(\"gpt2\")\n",
    "_ = model.eval()\n",
    "with torch.no_grad():\n",
    "    outputs = model(token_ids, output_hidden_states=True)\n",
    "\n",
    "\n",
    "def new_gelu(input):\n",
    "    return (\n",
    "        0.5\n",
    "        * input\n",
    "        * (\n",
    "            1.0\n",
    "            + torch.tanh(\n",
    "                math.sqrt(2.0 / math.pi) * (input + 0.044715 * torch.pow(input, 3.0))\n",
    "            )\n",
    "        )\n",
    "    )\n",
    "\n",
    "def conv_1d(x, weight, bias=None):\n",
    "    size_out = x.size()[:-1] + (weight.size(-1),)\n",
    "    x = torch.addmm(bias, x.view(-1, x.size(-1)), weight)\n",
    "    x = x.view(size_out)\n",
    "    return x\n",
    "\n",
    "\n",
    "attention_masked = None\n",
    "\n",
    "def transformer_block(i, input_hidden_state, model_state, state_log):\n",
    "    global attention_masked\n",
    "    print(\"input_hidden_state=\",input_hidden_state )\n",
    "    def block_state(key):\n",
    "        return model_state[f\"h.{i}.{key}\"]\n",
    "\n",
    "    def attention_state(key):\n",
    "        return model_state[f\"h.{i}.attn.{key}\"]\n",
    "\n",
    "    # attention block\n",
    "    ln1 = torch.nn.functional.layer_norm(\n",
    "        input=input_hidden_state,\n",
    "        weight=block_state(\"ln_1.weight\"),\n",
    "        bias=block_state(\"ln_1.bias\"),\n",
    "        normalized_shape=(768,),\n",
    "    )\n",
    "\n",
    "    print(\"ln1=\",ln1 )\n",
    "    assert torch.allclose(ln1, state_log[\"layers\"][i][\"ln_1\"]), \"Layer norm is wrong\"\n",
    "\n",
    "    w_q, w_k, w_v = attention_state(\"c_attn.weight\").chunk(3, dim=1)\n",
    "    b_q, b_k, b_v = attention_state(\"c_attn.bias\").chunk(3, dim=0)\n",
    "\n",
    "    # q = ln1 @ w_q + b_q\n",
    "    # k = ln1 @ w_k + b_k\n",
    "    # v = ln1 @ w_v + b_v\n",
    "\n",
    "    q= conv_1d(ln1, w_q, b_q)\n",
    "    k= conv_1d(ln1, w_k, b_k)\n",
    "    v= conv_1d(ln1, w_v, b_v)\n",
    "\n",
    "\n",
    "    print(\"Key=\",k )\n",
    "    assert torch.allclose(\n",
    "        k, state_log[\"layers\"][i][\"attention_log\"][\"key\"]\n",
    "    ), \"Key is wrong\"\n",
    "\n",
    "    print(\"Query=\",q )\n",
    "    assert torch.allclose(\n",
    "        q, state_log[\"layers\"][i][\"attention_log\"][\"query\"]\n",
    "    ), \"Query is wrong\"\n",
    "\n",
    "\n",
    "    print(\"Value=\",v )\n",
    "    assert torch.allclose(\n",
    "        v, state_log[\"layers\"][i][\"attention_log\"][\"value\"]\n",
    "    ), \"Value is wrong\"\n",
    "\n",
    "    assert torch.eq(q, state_log[\"layers\"][i][\"attention_log\"][\"query\"]).all(), \"Query is wrong\"\n",
    "    assert torch.eq(k, state_log[\"layers\"][i][\"attention_log\"][\"key\"]).all(), \"Key is wrong\"\n",
    "    assert torch.eq(v, state_log[\"layers\"][i][\"attention_log\"][\"value\"]).all(), \"Value is wrong\"\n",
    "\n",
    "    q_chunked = torch.stack(q.chunk(12, dim=-1))\n",
    "    k_chunked = torch.stack(k.chunk(12, dim=-1))\n",
    "    v_chunked = torch.stack(v.chunk(12, dim=-1))\n",
    "\n",
    "    # attention = q_chunked @ k_chunked.transpose(-1, -2)\n",
    "    attention = torch.matmul(q_chunked, k_chunked.transpose(-1, -2))\n",
    "\n",
    "    attention_rescaled = attention / (64**0.5)\n",
    "\n",
    "\n",
    "    mask = torch.triu(torch.ones_like(attention_rescaled), diagonal=1).bool()\n",
    "    attention_masked = attention_rescaled.masked_fill(mask, torch.finfo(torch.float32).min) \n",
    "\n",
    "    assert torch.allclose(\n",
    "        attention_masked, state_log[\"layers\"][i][\"attention_log\"][\"attention_masked\"], atol=1e-5\n",
    "    ), \"Attention masked is wrong\"\n",
    "\n",
    "\n",
    "\n",
    "    # display(attention_masked.chans(scale=4, cmap=\"seismic\"))\n",
    "\n",
    "    attention_softmaxed = torch.nn.functional.softmax(attention_masked, dim=-1)\n",
    "\n",
    "    # display(attention_rescaled.chans(scale=4, cmap=\"seismic\"))\n",
    "    # display(attention_softmaxed.chans(scale=4, cmap=\"seismic\"))\n",
    "\n",
    "    attention_output = torch.matmul(attention_softmaxed, v_chunked)\n",
    "    # attention_output = attention_softmaxed @ v_chunked\n",
    "    # display(attention_output.chans(scale=4, cmap=\"seismic\"))\n",
    "\n",
    "    print(\"attention_output=\",attention_output )\n",
    "   \n",
    "    out_tuple = [x[0] for x in attention_output.chunk(12, dim=0)]\n",
    "\n",
    "\n",
    "    print(\"out_tuple=\",out_tuple )\n",
    "    combined_attention_output = torch.cat(out_tuple, dim=-1)\n",
    "    # display(combined_attention_output.chans(scale=4, cmap=\"seismic\"))\n",
    "\n",
    "    print(\"combined_attention_output=\",combined_attention_output )\n",
    "\n",
    "    w_cproj = attention_state(\"c_proj.weight\")\n",
    "    b_cproj = attention_state(\"c_proj.bias\")\n",
    "\n",
    "    # crosstalk = combined_attention_output @ w_cproj + b_cproj\n",
    "    crosstalk = conv_1d(combined_attention_output, w_cproj, b_cproj)\n",
    "\n",
    "    # crosstalk = torch.nn.functional.linear(weight=attention_state(\"c_proj.weight\"), bias=attention_state(\"c_proj.bias\"), input=combined_attention_output)\n",
    "    # display(crosstalk.chans(scale=4, cmap=\"seismic\"))\n",
    "\n",
    "    after_residual = crosstalk + input_hidden_state\n",
    "\n",
    "    print(\"after_residual=\",after_residual )\n",
    "\n",
    "    # mlp block\n",
    "    before_ln2 = after_residual\n",
    "\n",
    "    ln2 = torch.nn.functional.layer_norm(\n",
    "        input=after_residual,\n",
    "        weight=block_state(\"ln_2.weight\"),\n",
    "        bias=block_state(\"ln_2.bias\"),\n",
    "        normalized_shape=(768,),\n",
    "    )\n",
    "\n",
    "    w_fc = block_state(\"mlp.c_fc.weight\")\n",
    "    b_fc = block_state(\"mlp.c_fc.bias\")\n",
    "\n",
    "    # after_up = ln2 @ w_fc + b_fc\n",
    "    after_up = conv_1d(ln2, w_fc, b_fc)\n",
    "\n",
    "\n",
    "    activated = new_gelu(after_up)\n",
    "\n",
    "    w_proj = block_state(\"mlp.c_proj.weight\")\n",
    "    b_proj = block_state(\"mlp.c_proj.bias\")\n",
    "\n",
    "    # after_down = activated @ w_proj + b_proj\n",
    "    after_down = conv_1d(activated, w_proj, b_proj)\n",
    "\n",
    "    after_residual_2 = after_down + before_ln2\n",
    "    print(\"after_residual_2=\",after_residual_2 )\n",
    "\n",
    "    return after_residual_2\n",
    "\n",
    "\n",
    "def our_model(token_ids, model_state, state_log):\n",
    "    token_embeddings = model_state[\"wte.weight\"][token_ids]\n",
    "    positions = torch.arange(len(token_ids))  # [0,1,2,3...]\n",
    "    position_embeddings = model_state[\"wpe.weight\"][positions]\n",
    "    embeddings = token_embeddings + position_embeddings\n",
    "\n",
    "    if torch.allclose(embeddings, state_log[\"layers\"][0][\"input_hidden_states\"]):\n",
    "        print(\"Embeddings are correct\")\n",
    "    else:\n",
    "        print(\"Embeddings are wrong\")\n",
    "\n",
    "    hs = embeddings\n",
    "    for i in range(12):\n",
    "        print(f\"Running transformer block {i}\")\n",
    "        hs = transformer_block(i, hs, model_state, state_log)\n",
    "\n",
    "    ln_w = model_state[\"ln_f.weight\"]\n",
    "    ln_b = model_state[\"ln_f.bias\"]\n",
    "\n",
    "    ln = torch.nn.functional.layer_norm(\n",
    "        input=hs, weight=ln_w, bias=ln_b, normalized_shape=(768,)\n",
    "    )\n",
    "\n",
    "    return ln\n",
    "\n",
    "out = our_model(token_ids[0], model_state, state_log)\n",
    "\n",
    "# out[0].chans(scale=4, cmap=\"seismic\")\n",
    "# out[1].chans(scale=4, cmap=\"seismic\")\n",
    "# out[2].chans(scale=4, cmap=\"seismic\")\n",
    "# out[3]"
   ]
  },
  {
   "cell_type": "code",
   "execution_count": 313,
   "metadata": {},
   "outputs": [
    {
     "data": {
      "text/plain": [
       "tensor[1, 10, 768] n=7680 (30Kb) \u001b[38;2;127;127;127mall_zeros\u001b[0m"
      ]
     },
     "execution_count": 313,
     "metadata": {},
     "output_type": "execute_result"
    }
   ],
   "source": [
    "outputs.last_hidden_state - out"
   ]
  },
  {
   "cell_type": "code",
   "execution_count": 337,
   "metadata": {},
   "outputs": [
    {
     "data": {
      "text/plain": [
       "tensor[6, 50257] n=301542 (1.2Mb) x∈[-302.044, -31.864] μ=-110.059 σ=69.994"
      ]
     },
     "execution_count": 337,
     "metadata": {},
     "output_type": "execute_result"
    }
   ],
   "source": [
    "out @ model_state[\"wte.weight\"].T"
   ]
  },
  {
   "cell_type": "code",
   "execution_count": 360,
   "metadata": {},
   "outputs": [
    {
     "data": {
      "text/plain": [
       "tensor[12, 50257] n=603084 (2.3Mb) x∈[2.286e-20, 0.780] μ=1.990e-05 σ=0.002"
      ]
     },
     "execution_count": 360,
     "metadata": {},
     "output_type": "execute_result"
    }
   ],
   "source": [
    "softmaxed = torch.nn.functional.softmax(out @ model_state[\"wte.weight\"].T, dim=-1)\n",
    "softmaxed"
   ]
  },
  {
   "cell_type": "code",
   "execution_count": 362,
   "metadata": {},
   "outputs": [
    {
     "data": {
      "text/plain": [
       "[' London', ' Liverpool', ' Cambridge', ' Manchester', ' the']"
      ]
     },
     "execution_count": 362,
     "metadata": {},
     "output_type": "execute_result"
    }
   ],
   "source": [
    "top_5_indices = torch.topk(softmaxed[-1], 5, dim=-1).indices\n",
    "tokenizer.batch_decode(top_5_indices)"
   ]
  },
  {
   "cell_type": "code",
   "execution_count": 270,
   "metadata": {},
   "outputs": [
    {
     "name": "stderr",
     "output_type": "stream",
     "text": [
      "/home/xl0/work/projects/lovely-numpy/lovely_numpy/utils/colormap.py:65: RuntimeWarning: overflow encountered in multiply\n",
      "  lut_idxs = (vals * cmax).astype(np.int64)\n"
     ]
    },
    {
     "data": {
      "image/png": "[encoded data removed]",
      "text/plain": [
       "<lovely_tensors.repr_chans.ChanProxy at 0x7f796bb320e0>"
      ]
     },
     "execution_count": 270,
     "metadata": {},
     "output_type": "execute_result"
    }
   ],
   "source": [
    "state_log[\"layers\"][0][\"attention_log\"][\"attention_masked\"].chans(scale=4, cmap=\"seismic\")"
   ]
  },
  {
   "cell_type": "code",
   "execution_count": 277,
   "metadata": {},
   "outputs": [
    {
     "data": {
      "text/plain": [
       "tensor[12, 1, 10, 10] n=1200 (4.7Kb) x∈[-3.403e+38, 5.849] μ=-inf σ=inf"
      ]
     },
     "execution_count": 277,
     "metadata": {},
     "output_type": "execute_result"
    }
   ],
   "source": [
    "attention_masked"
   ]
  },
  {
   "cell_type": "code",
   "execution_count": 278,
   "metadata": {},
   "outputs": [
    {
     "data": {
      "text/plain": [
       "tensor[1, 12, 10, 10] n=1200 (4.7Kb) x∈[-3.403e+38, 5.849] μ=-inf σ=inf"
      ]
     },
     "execution_count": 278,
     "metadata": {},
     "output_type": "execute_result"
    }
   ],
   "source": [
    "state_log[\"layers\"][1][\"attention_log\"][\"attention_masked\"]"
   ]
  },
  {
   "cell_type": "code",
   "execution_count": 251,
   "metadata": {},
   "outputs": [
    {
     "data": {
      "text/plain": [
       "tensor[1, 10, 768] n=7680 (30Kb) \u001b[38;2;127;127;127mall_zeros\u001b[0m"
      ]
     },
     "execution_count": 251,
     "metadata": {},
     "output_type": "execute_result"
    }
   ],
   "source": []
  },
  {
   "cell_type": "code",
   "execution_count": 229,
   "metadata": {},
   "outputs": [
    {
     "data": {
      "text/plain": [
       "tensor[1, 12, 10, 10] n=1200 (4.7Kb) x∈[-3.815e-06, 3.815e-06] μ=2.957e-08 σ=4.980e-07"
      ]
     },
     "execution_count": 229,
     "metadata": {},
     "output_type": "execute_result"
    }
   ],
   "source": [
    "- out[1]"
   ]
  },
  {
   "cell_type": "code",
   "execution_count": 208,
   "metadata": {},
   "outputs": [
    {
     "data": {
      "image/png": "[encoded data removed]",
      "text/plain": [
       "<lovely_tensors.repr_chans.ChanProxy at 0x7f79776a43a0>"
      ]
     },
     "execution_count": 208,
     "metadata": {},
     "output_type": "execute_result"
    }
   ],
   "source": [
    "out_tuple = out.chunk(12, dim=0)\n",
    "\n",
    "torch.cat(out_tuple, dim=-1).chans(scale=4, cmap=\"seismic\")"
   ]
  },
  {
   "cell_type": "code",
   "execution_count": 166,
   "metadata": {},
   "outputs": [
    {
     "data": {
      "image/png": "[encoded data removed]",
      "text/plain": [
       "<lovely_tensors.repr_chans.ChanProxy at 0x7f796bd9f970>"
      ]
     },
     "execution_count": 166,
     "metadata": {},
     "output_type": "execute_result"
    }
   ],
   "source": [
    "torch.stack(out[0].chunk(12, dim=2), dim=1).chans(scale=4, cmap=\"seismic\")"
   ]
  },
  {
   "cell_type": "code",
   "execution_count": 213,
   "metadata": {},
   "outputs": [
    {
     "name": "stdout",
     "output_type": "stream",
     "text": [
      "1\n",
      "2\n"
     ]
    }
   ],
   "source": []
  },
  {
   "cell_type": "code",
   "execution_count": 167,
   "metadata": {},
   "outputs": [
    {
     "data": {
      "text/plain": [
       "tensor[1, 6] i64 x∈[11, 15496] μ=5.585e+03 σ=7.129e+03 [[15496, 11, 616, 3290, 318, 13779]]"
      ]
     },
     "execution_count": 167,
     "metadata": {},
     "output_type": "execute_result"
    }
   ],
   "source": [
    "token_ids"
   ]
  },
  {
   "cell_type": "code",
   "execution_count": 16,
   "metadata": {},
   "outputs": [
    {
     "data": {
      "text/plain": [
       "tensor[1, 6, 768] n=4608 (18Kb) x∈[-0.668, 1.785] μ=4.578e-05 σ=0.115"
      ]
     },
     "execution_count": 16,
     "metadata": {},
     "output_type": "execute_result"
    }
   ],
   "source": [
    "token_embeddings = model_state[\"wte.weight\"][token_ids]\n",
    "token_embeddings"
   ]
  },
  {
   "cell_type": "code",
   "execution_count": 17,
   "metadata": {},
   "outputs": [
    {
     "data": {
      "text/plain": [
       "tensor[6, 768] n=4608 (18Kb) x∈[-4.538, 4.065] μ=-0.003 σ=0.207"
      ]
     },
     "execution_count": 17,
     "metadata": {},
     "output_type": "execute_result"
    }
   ],
   "source": [
    "positions = torch.arange(token_ids.shape[1])  # [0,1,2,3...]\n",
    "position_embeddings = model_state[\"wpe.weight\"][positions]\n",
    "position_embeddings"
   ]
  },
  {
   "cell_type": "code",
   "execution_count": 18,
   "metadata": {},
   "outputs": [
    {
     "data": {
      "text/plain": [
       "tensor[1, 6, 768] n=4608 (18Kb) x∈[-4.443, 3.683] μ=-0.003 σ=0.236"
      ]
     },
     "execution_count": 18,
     "metadata": {},
     "output_type": "execute_result"
    }
   ],
   "source": [
    "embeddings = token_embeddings + position_embeddings\n",
    "embeddings"
   ]
  },
  {
   "cell_type": "code",
   "execution_count": 32,
   "metadata": {},
   "outputs": [],
   "source": [
    "assert torch.allclose(embeddings, outputs[\"hidden_states\"][0])"
   ]
  }
 ],
 "metadata": {
  "kernelspec": {
   "display_name": "torch",
   "language": "python",
   "name": "python3"
  },
  "language_info": {
   "codemirror_mode": {
    "name": "ipython",
    "version": 3
   },
   "file_extension": ".py",
   "mimetype": "text/x-python",
   "name": "python",
   "nbconvert_exporter": "python",
   "pygments_lexer": "ipython3",
   "version": "3.10.12"
  },
  "orig_nbformat": 4
 },
 "nbformat": 4,
 "nbformat_minor": 2
}
