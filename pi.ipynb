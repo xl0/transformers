{
 "cells": [
  {
   "cell_type": "code",
   "execution_count": 3,
   "metadata": {},
   "outputs": [],
   "source": [
    "import random\n",
    "\n",
    "def get_item(data, N):\n",
    "    i = random.randint(0, len(data) - N - 1)\n",
    "    while i + N < len(data):\n",
    "        src = data[i : i + N]\n",
    "        dst = data[i + 1 : i + N + 1]\n",
    "        yield src, dst\n",
    "        i += N\n",
    "\n",
    "def get_batch(data, batch_size, nTokens):\n",
    "    \"\"\"Yields a tuple of tensors of shape (batch_size, ctx). One is inputs, the other is preds\"\"\"\n",
    "    gen = get_item(data, nTokens)\n",
    "\n",
    "    try:\n",
    "        while True:\n",
    "            yield [next(gen) for _ in range(batch_size)]\n",
    "    except StopIteration:\n",
    "        pass\n",
    "\n",
    "import torch\n",
    "data = torch.tensor([ord(ch) for ch in 'abcdefghijklmnopqrstuvwxyz'])\n",
    "\n",
    "for batch in get_batch(data, batch_size=2, nTokens=8):\n",
    "    print(batch)"
   ]
  },
  {
   "cell_type": "code",
   "execution_count": 4,
   "metadata": {},
   "outputs": [
    {
     "data": {
      "text/plain": [
       "tensor([ 97,  98,  99, 100, 101, 102, 103, 104, 105, 106, 107, 108, 109, 110,\n",
       "        111, 112, 113, 114, 115, 116, 117, 118, 119, 120, 121, 122])"
      ]
     },
     "execution_count": 4,
     "metadata": {},
     "output_type": "execute_result"
    },
    {
     "ename": "",
     "evalue": "",
     "output_type": "error",
     "traceback": [
      "\u001b[1;31mThe Kernel crashed while executing code in the the current cell or a previous cell. Please review the code in the cell(s) to identify a possible cause of the failure. Click <a href='https://aka.ms/vscodeJupyterKernelCrash'>here</a> for more info. View Jupyter <a href='command:jupyter.viewOutput'>log</a> for further details."
     ]
    }
   ],
   "source": [
    "data"
   ]
  },
  {
   "cell_type": "code",
   "execution_count": null,
   "metadata": {},
   "outputs": [],
   "source": []
  }
 ],
 "metadata": {
  "kernelspec": {
   "display_name": "torch",
   "language": "python",
   "name": "python3"
  },
  "language_info": {
   "codemirror_mode": {
    "name": "ipython",
    "version": 3
   },
   "file_extension": ".py",
   "mimetype": "text/x-python",
   "name": "python",
   "nbconvert_exporter": "python",
   "pygments_lexer": "ipython3",
   "version": "3.10.12"
  },
  "orig_nbformat": 4
 },
 "nbformat": 4,
 "nbformat_minor": 2
}
